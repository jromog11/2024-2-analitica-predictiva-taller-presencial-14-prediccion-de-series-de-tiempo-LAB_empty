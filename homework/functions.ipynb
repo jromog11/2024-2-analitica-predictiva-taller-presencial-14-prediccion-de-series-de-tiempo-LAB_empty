{
 "cells": [
  {
   "cell_type": "code",
   "execution_count": 26,
   "metadata": {},
   "outputs": [],
   "source": [
    "import os\n",
    "\n",
    "import numpy as np  #  type: ignore\n",
    "import matplotlib.pyplot as plt  #  type: ignore\n",
    "import pandas as pd  #  type: ignore\n",
    "\n",
    "from sklearn.metrics import mean_squared_error, mean_absolute_error\n",
    "from statsmodels.tsa.stattools import acf, pacf  #  type: ignore\n",
    "from statsmodels.graphics.tsaplots import plot_acf, plot_pacf  #  type: ignore"
   ]
  },
  {
   "cell_type": "code",
   "execution_count": 27,
   "metadata": {},
   "outputs": [],
   "source": [
    "def load_data():\n",
    "    df = pd.read_csv(\"../files/input/sutter.csv\")\n",
    "    df = df.set_index(\"date\")\n",
    "    return df"
   ]
  },
  {
   "cell_type": "code",
   "execution_count": 28,
   "metadata": {},
   "outputs": [],
   "source": [
    "def plot_time_series(df, yt_col=\"yt_true\"):\n",
    "    \"\"\"Time series plot.\"\"\"\n",
    "\n",
    "    plt.figure(figsize=(12, 4))\n",
    "\n",
    "    # yt_real\n",
    "    plt.plot(df[yt_col], \".-k\", linewidth=0.5, label=yt_col)\n",
    "    plt.grid(color=\"lightgray\", linestyle=\"--\", linewidth=0.5)\n",
    "\n",
    "    cols = [col for col in df.columns if col.startswith(\"yt_pred\")]\n",
    "    colors = \"rbgcmy\"\n",
    "    for i, col in enumerate(cols):\n",
    "        plt.plot(df[col], \".-\", color=colors[i], linewidth=0.7, label=col)\n",
    "\n",
    "    # line division\n",
    "    plt.plot(\n",
    "        [len(df[yt_col]) - 24, len(df[yt_col]) - 24],\n",
    "        [min(df[yt_col]), max(df[yt_col])],\n",
    "        \"--\",\n",
    "        linewidth=2,\n",
    "    )\n",
    "\n",
    "    # format\n",
    "    plt.xticks(rotation=90)\n",
    "    plt.xticks(range(0, len(df[yt_col]), 12), df[yt_col].index[::12])\n",
    "    plt.yticks(fontsize=8)\n",
    "    plt.xticks(fontsize=8)\n",
    "    plt.legend()\n",
    "    plt.show()"
   ]
  },
  {
   "cell_type": "code",
   "execution_count": 29,
   "metadata": {},
   "outputs": [],
   "source": [
    "def acf_pacf_plots(z):\n",
    "    \"\"\"Correlation plot.\"\"\"\n",
    "\n",
    "    def format_plot():\n",
    "        plt.gca().spines[\"top\"].set_visible(False)\n",
    "        plt.gca().spines[\"bottom\"].set_visible(False)\n",
    "        plt.gca().spines[\"right\"].set_visible(False)\n",
    "        plt.gca().collections[0].set_color(\"k\")\n",
    "        plt.gca().collections[1].set_color(\"gray\")\n",
    "        plt.grid(color=\"lightgray\", linestyle=\"--\", linewidth=0.5)\n",
    "        plt.ylim(-1.03, 1.03)\n",
    "        plt.yticks(fontsize=8)\n",
    "        plt.xticks(fontsize=8)\n",
    "        plt.title(plt.gca().get_title(), fontsize=8)\n",
    "\n",
    "    plt.figure(figsize=(9, 3))\n",
    "\n",
    "    plt.subplot(1, 2, 1)\n",
    "    plot_acf(z, lags=24, ax=plt.gca(), color=\"k\")\n",
    "    format_plot()\n",
    "\n",
    "    plt.subplot(1, 2, 2)\n",
    "    plot_pacf(z, lags=24, ax=plt.gca(), color=\"k\")\n",
    "    format_plot()\n",
    "    plt.show()"
   ]
  },
  {
   "cell_type": "code",
   "execution_count": 30,
   "metadata": {},
   "outputs": [],
   "source": [
    "def add_linear_trend_component(df):\n",
    "    \"\"\"Add linear trend component to the dataframe.\"\"\"\n",
    "    df = df.assign(trend=list(range(len(df))))\n",
    "    return df"
   ]
  },
  {
   "cell_type": "code",
   "execution_count": 31,
   "metadata": {},
   "outputs": [],
   "source": [
    "def add_month_component(df):\n",
    "    df = df.assign(month=df.index.str[5:7].astype(int))\n",
    "    return df"
   ]
  },
  {
   "cell_type": "code",
   "execution_count": 32,
   "metadata": {},
   "outputs": [],
   "source": [
    "def train_test_split(df, x_columns, y_column):\n",
    "    \"\"\"Train test split using last 24 observations as test set.\"\"\"\n",
    "\n",
    "    X_complete = df[x_columns]\n",
    "    y_complete = df[y_column]\n",
    "\n",
    "    X_train = df[x_columns].iloc[:-24]\n",
    "    y_train = df[y_column].iloc[:-24]\n",
    "\n",
    "    X_test = df[x_columns].iloc[-24:]\n",
    "    y_test = df[y_column].iloc[-24:]\n",
    "\n",
    "    return X_complete, y_complete, X_train, y_train, X_test, y_test"
   ]
  },
  {
   "cell_type": "code",
   "execution_count": 33,
   "metadata": {},
   "outputs": [],
   "source": [
    "def compute_evaluation_metrics(df, y_true_column=\"yt_true\"):\n",
    "    \"\"\"Compute metrics for train and test sets\"\"\"\n",
    "\n",
    "    cols = [col for col in df.columns if \"yt_pred\" in col]\n",
    "\n",
    "    y_train_true = df[y_true_column].iloc[:-24]\n",
    "    y_test_true = df[y_true_column].iloc[-24:]\n",
    "\n",
    "    results = {}\n",
    "    results[\"Metrics\"] = [\"MSE Train\", \"MSE Test\", \"MAE Train\", \"MAE Test\"]\n",
    "\n",
    "    for col in cols:\n",
    "\n",
    "        y_train_pred = df[col].iloc[:-24]\n",
    "        y_test_pred = df[col].iloc[-24:]\n",
    "\n",
    "        metrics = [\n",
    "            mean_squared_error(y_train_true, y_train_pred),\n",
    "            mean_squared_error(y_test_true, y_test_pred),\n",
    "            mean_absolute_error(y_train_true, y_train_pred),\n",
    "            mean_absolute_error(y_test_true, y_test_pred),\n",
    "        ]\n",
    "\n",
    "        results[col] = metrics\n",
    "\n",
    "    results = pd.DataFrame(results)\n",
    "\n",
    "    results = results.round(2)\n",
    "\n",
    "    return results"
   ]
  },
  {
   "cell_type": "code",
   "execution_count": 34,
   "metadata": {},
   "outputs": [],
   "source": [
    "def save_forecasts(df):\n",
    "    \"\"\"Save forecasts to a csv file.\"\"\"\n",
    "\n",
    "    if not os.path.exists(\"../files/output\"):\n",
    "        os.makedirs(\"../files/output\")\n",
    "\n",
    "    columns = [col for col in df.columns if col.startswith(\"yt_pred\")]\n",
    "\n",
    "    forecasts = df[columns].copy()\n",
    "\n",
    "    if os.path.exists(\"../files/output/forecasts.csv\"):\n",
    "        saved_forecasts = pd.read_csv(\"../files/output/forecasts.csv\", index_col=0)\n",
    "        for col in forecasts.columns:\n",
    "            saved_forecasts[col] = forecasts[col].values\n",
    "        forecasts = saved_forecasts\n",
    "\n",
    "    if \"yt_true\" not in forecasts.columns:\n",
    "        forecasts[\"yt_true\"] = df[\"yt_true\"].values\n",
    "        \n",
    "        \n",
    "    forecasts.to_csv(\"../files/output/forecasts.csv\", index=True)"
   ]
  },
  {
   "cell_type": "code",
   "execution_count": 35,
   "metadata": {},
   "outputs": [],
   "source": [
    "def save_metrics(metrics):\n",
    "    \"\"\"Save metrics to a csv file.\"\"\"\n",
    "\n",
    "    if not os.path.exists(\"../files/output\"):\n",
    "        os.makedirs(\"../files/output\")\n",
    "\n",
    "    if os.path.exists(\"../files/output/metrics.csv\"):\n",
    "        saved_metrics = pd.read_csv(\"../files/output/metrics.csv\")\n",
    "        for col in metrics.columns:\n",
    "            saved_metrics[col] = metrics[col]\n",
    "        metrics = saved_metrics\n",
    "\n",
    "    metrics.to_csv(\"../files/output/metrics.csv\", index=False)"
   ]
  }
 ],
 "metadata": {
  "kernelspec": {
   "display_name": ".venv",
   "language": "python",
   "name": "python3"
  },
  "language_info": {
   "codemirror_mode": {
    "name": "ipython",
    "version": 3
   },
   "file_extension": ".py",
   "mimetype": "text/x-python",
   "name": "python",
   "nbconvert_exporter": "python",
   "pygments_lexer": "ipython3",
   "version": "3.11.9"
  }
 },
 "nbformat": 4,
 "nbformat_minor": 2
}
